{
 "cells": [
  {
   "cell_type": "code",
   "execution_count": 11,
   "id": "0a08b71c-58af-4184-8d6e-41860988c5da",
   "metadata": {},
   "outputs": [],
   "source": [
    "import numpy as np\n",
    "import pandas as pd\n",
    "import psycopg2"
   ]
  },
  {
   "cell_type": "code",
   "execution_count": 12,
   "id": "b62bbfa6-1fa1-4859-9a01-7de8d71f9cd0",
   "metadata": {},
   "outputs": [],
   "source": [
    "# Параметры подключения\n",
    "conn = psycopg2.connect(\n",
    "    host=\"dpg-d05l1pq4d50c73f4qqfg-a.frankfurt-postgres.render.com\", # house\n",
    "    port=\"5432\", # room\n",
    "    database=\"hft_0yd2\",\n",
    "    user=\"admin\",\n",
    "    password=\"958G9FNfWvQGUvfmy3oiiftd5MjAu0OD\"\n",
    ")"
   ]
  },
  {
   "cell_type": "code",
   "execution_count": 13,
   "id": "f54fbeb6-b978-4ac8-9548-9d7b34b741cb",
   "metadata": {},
   "outputs": [],
   "source": [
    "# Создаем курсор\n",
    "cur = conn.cursor() # объект для взаимодействия с базой (пульт управления)\n",
    "\n",
    "# Выполняем SQL-запрос\n",
    "cur.execute(\n",
    "\"\"\"\n",
    "select 'BTC' as ticker, count(*) as cnt_rows\n",
    "from okx_prices_btc\n",
    "union all \n",
    "select 'ETH' as ticker, count(*) as cnt_rows\n",
    "from okx_prices_eth\n",
    "union all\n",
    "select 'SOL' as ticker, count(*) as cnt_rows\n",
    "from okx_prices_sol\n",
    "union all\n",
    "select 'TON' as ticker, count(*) as cnt_rows\n",
    "from okx_prices_ton;\n",
    "\"\"\"\n",
    ")\n",
    "\n",
    "# Получаем результаты\n",
    "rows = cur.fetchall()\n",
    "\n",
    "# Преобразуем в DataFrame (если хочешь)\n",
    "columns = [desc[0] for desc in cur.description]\n",
    "df = pd.DataFrame(rows, columns=columns)"
   ]
  },
  {
   "cell_type": "code",
   "execution_count": 14,
   "id": "cb7677d1-ea24-46a4-a20a-7823b41a5f2d",
   "metadata": {},
   "outputs": [
    {
     "data": {
      "text/plain": [
       "[('BTC', 31800), ('ETH', 31800), ('SOL', 31800), ('TON', 31800)]"
      ]
     },
     "execution_count": 14,
     "metadata": {},
     "output_type": "execute_result"
    }
   ],
   "source": [
    "rows"
   ]
  },
  {
   "cell_type": "code",
   "execution_count": 15,
   "id": "66cb05aa-b794-4c99-8e4c-e2cb0d1e74a0",
   "metadata": {},
   "outputs": [
    {
     "data": {
      "text/html": [
       "<div>\n",
       "<style scoped>\n",
       "    .dataframe tbody tr th:only-of-type {\n",
       "        vertical-align: middle;\n",
       "    }\n",
       "\n",
       "    .dataframe tbody tr th {\n",
       "        vertical-align: top;\n",
       "    }\n",
       "\n",
       "    .dataframe thead th {\n",
       "        text-align: right;\n",
       "    }\n",
       "</style>\n",
       "<table border=\"1\" class=\"dataframe\">\n",
       "  <thead>\n",
       "    <tr style=\"text-align: right;\">\n",
       "      <th></th>\n",
       "      <th>ticker</th>\n",
       "      <th>cnt_rows</th>\n",
       "    </tr>\n",
       "  </thead>\n",
       "  <tbody>\n",
       "    <tr>\n",
       "      <th>0</th>\n",
       "      <td>BTC</td>\n",
       "      <td>31800</td>\n",
       "    </tr>\n",
       "    <tr>\n",
       "      <th>1</th>\n",
       "      <td>ETH</td>\n",
       "      <td>31800</td>\n",
       "    </tr>\n",
       "    <tr>\n",
       "      <th>2</th>\n",
       "      <td>SOL</td>\n",
       "      <td>31800</td>\n",
       "    </tr>\n",
       "    <tr>\n",
       "      <th>3</th>\n",
       "      <td>TON</td>\n",
       "      <td>31800</td>\n",
       "    </tr>\n",
       "  </tbody>\n",
       "</table>\n",
       "</div>"
      ],
      "text/plain": [
       "  ticker  cnt_rows\n",
       "0    BTC     31800\n",
       "1    ETH     31800\n",
       "2    SOL     31800\n",
       "3    TON     31800"
      ]
     },
     "execution_count": 15,
     "metadata": {},
     "output_type": "execute_result"
    }
   ],
   "source": [
    "# Показываем\n",
    "df.head()"
   ]
  },
  {
   "cell_type": "code",
   "execution_count": 16,
   "id": "0e7ad242-d6b0-44b5-93b9-4616ec36f310",
   "metadata": {},
   "outputs": [],
   "source": [
    "# Закрываем\n",
    "cur.close()\n",
    "conn.close()"
   ]
  }
 ],
 "metadata": {
  "kernelspec": {
   "display_name": "Python 3 (ipykernel)",
   "language": "python",
   "name": "python3"
  },
  "language_info": {
   "codemirror_mode": {
    "name": "ipython",
    "version": 3
   },
   "file_extension": ".py",
   "mimetype": "text/x-python",
   "name": "python",
   "nbconvert_exporter": "python",
   "pygments_lexer": "ipython3",
   "version": "3.12.3"
  }
 },
 "nbformat": 4,
 "nbformat_minor": 5
}
